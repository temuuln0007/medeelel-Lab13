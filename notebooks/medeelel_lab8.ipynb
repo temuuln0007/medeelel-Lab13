{
  "cells": [
    {
      "cell_type": "markdown",
      "metadata": {
        "id": "QGWTzQHS-k99"
      },
      "source": [
        "**B221910007 Г. Тэмүүлэн**"
      ]
    },
    {
      "cell_type": "markdown",
      "metadata": {
        "id": "9ShEnqko4aZk"
      },
      "source": [
        "**Лабораторын ажил 8: Ties Strength & Resilience**\n",
        "\n",
        "Энэ долоо хоногийн лабораторын ажлаар бид графын мөрмөг буюу холбоосын гол хэмжүүрүүд болох холбоосын чадал болон сүлжээний уян хатан байдлын талаар судлах, кодчилох болно.\n",
        "\n",
        "Note: Уг нотебүүк нь 100 хувь болон гүйцэт биш бөгөөд цаашид нэмэн судлахад шаардлагатай зөвхөн анхан шатны ойлголтуудыг багтаасан болно."
      ]
    },
    {
      "cell_type": "code",
      "execution_count": null,
      "metadata": {
        "id": "7JQL-kgP4CnP"
      },
      "outputs": [],
      "source": [
        "import networkx as nx\n",
        "import pandas as pd\n",
        "import matplotlib.pyplot as plt\n",
        "import numpy as np\n",
        "\n",
        "%matplotlib inline"
      ]
    },
    {
      "cell_type": "markdown",
      "metadata": {
        "id": "i4arQc0W4n4X"
      },
      "source": [
        "Өмнөх долоо хоногт ашигласан Game of Thrones датасетын Season 6-ийн мөрмөгийн өгөгдлийг ашиглан граф g байгуулъя. (useful for further operations)"
      ]
    },
    {
      "cell_type": "code",
      "execution_count": null,
      "metadata": {
        "collapsed": true,
        "id": "wg5au2Co45Km"
      },
      "outputs": [],
      "source": [
        "import networkx as nx\n",
        "\n",
        "def read_net_w(filename):\n",
        "    g = nx.Graph()\n",
        "    with open(filename) as f:\n",
        "        next(f, None)  # Толгойн мөрийг хасна\n",
        "        for line in f:\n",
        "            line = line.strip().split(\",\")  # Мөрийг коммоор тусгаарлана\n",
        "            try:\n",
        "                source = line[0].strip()\n",
        "                target = line[1].strip()\n",
        "                weight = int(line[4].strip())  # Жинг 5-р баганад (индекс 4) гэж үзнэ\n",
        "                g.add_edge(source, target, weight=weight)\n",
        "            except (ValueError, IndexError) as e:\n",
        "                print(f\"Мөрийг хасаж байна: {line}. Алдаа: {e}\")\n",
        "    return g\n",
        "\n",
        "# Жишээ хэрэглээ\n",
        "season = 6\n",
        "g = read_net_w('../data/asoiaf-all-edges.csv')  # Таны жинхэнэ файлын замыг оруулна уу"
      ]
    },
    {
      "cell_type": "markdown",
      "metadata": {
        "id": "XWRMaFZq4-1x"
      },
      "source": [
        "**Bridges and Local Bridges**\n",
        "\n",
        "Граф дотор bridge мөрмөгүүд байгаа эсэхийг шалгахдаа дараах функцийг ашиглана."
      ]
    },
    {
      "cell_type": "code",
      "execution_count": null,
      "metadata": {
        "colab": {
          "base_uri": "https://localhost:8080/"
        },
        "id": "nR6aqorO5C_P",
        "outputId": "93054707-f18e-4d5f-e065-cd73ff155bee"
      },
      "outputs": [
        {
          "data": {
            "text/plain": [
              "True"
            ]
          },
          "execution_count": 37,
          "metadata": {},
          "output_type": "execute_result"
        }
      ],
      "source": [
        "nx.has_bridges(g)"
      ]
    },
    {
      "cell_type": "markdown",
      "metadata": {
        "id": "G_tZQvh45K9g"
      },
      "source": [
        "Граф дахь бүх bridge-ийг жагсаалт байдлаар хэвлэхдээ —"
      ]
    },
    {
      "cell_type": "code",
      "execution_count": null,
      "metadata": {
        "colab": {
          "base_uri": "https://localhost:8080/"
        },
        "id": "I46cE-Ua5L5A",
        "outputId": "9b8ca185-7c5b-4329-ceb1-cc88c5072a60"
      },
      "outputs": [
        {
          "data": {
            "text/plain": [
              "[('Cersei-Lannister', 'Garth-Tyrell'),\n",
              " ('Cersei-Lannister', 'Mark-Mullendore'),\n",
              " ('Cersei-Lannister', 'Raynard'),\n",
              " ('Jaime-Lannister', 'Aemon-Targaryen-(Dragonknight)'),\n",
              " ('Jaime-Lannister', 'Bonifer-Hasty'),\n",
              " ('Jaime-Lannister', 'Garrett-Paege'),\n",
              " ('Jaime-Lannister', 'Hoster-Blackwood'),\n",
              " ('Jaime-Lannister', 'Hugo-Vance'),\n",
              " ('Jaime-Lannister', 'Joy-Hill'),\n",
              " ('Jaime-Lannister', 'Lewys-Piper'),\n",
              " ('Jaime-Lannister', 'Rennifer-Longwaters'),\n",
              " ('Jaime-Lannister', 'Shitmouth'),\n",
              " ('Jaime-Lannister', 'Urswyck'),\n",
              " ('Joffrey-Baratheon', 'Horas-Redwyne'),\n",
              " ('Tyrion-Lannister', 'Chataya'),\n",
              " ('Tyrion-Lannister', 'Galyeon-of-Cuy'),\n",
              " ('Tyrion-Lannister', 'Gunthor-son-of-Gurn'),\n",
              " ('Tyrion-Lannister', 'Kurleket'),\n",
              " ('Tyrion-Lannister', 'Leo-Lefford'),\n",
              " ('Tyrion-Lannister', 'Mord'),\n",
              " ('Tyrion-Lannister', 'Morgo'),\n",
              " ('Tyrion-Lannister', 'Shrouded-Lord'),\n",
              " ('Tywin-Lannister', 'Joanna-Lannister'),\n",
              " ('Catelyn-Stark', 'Brenett'),\n",
              " ('Catelyn-Stark', 'Donnel-Waynwood'),\n",
              " ('Catelyn-Stark', 'Masha-Heddle'),\n",
              " ('Catelyn-Stark', 'Moreo-Tumitis'),\n",
              " ('Catelyn-Stark', 'Mychel-Redfort'),\n",
              " ('Robb-Stark', 'Martyn-Rivers'),\n",
              " ('Robb-Stark', 'Rolph-Spicer'),\n",
              " ('Robb-Stark', 'Tristifer-IV-Mudd'),\n",
              " ('Daenerys-Targaryen', 'Barsena'),\n",
              " ('Daenerys-Targaryen', 'Eroeh'),\n",
              " ('Daenerys-Targaryen', 'Ezzara'),\n",
              " ('Daenerys-Targaryen', 'Lynesse-Hightower'),\n",
              " ('Daenerys-Targaryen', 'Lysono-Maar'),\n",
              " ('Daenerys-Targaryen', 'Quaithe'),\n",
              " ('Daenerys-Targaryen', 'Rhaegel-Targaryen'),\n",
              " ('Daenerys-Targaryen', 'Yurkhaz-zo-Yunzak'),\n",
              " ('Eddard-Stark', 'Jacks'),\n",
              " ('Eddard-Stark', 'Joss'),\n",
              " ('Eddard-Stark', 'Maron-Greyjoy'),\n",
              " ('Eddard-Stark', 'Porther'),\n",
              " ('Eddard-Stark', 'Tobho-Mott'),\n",
              " ('Eddard-Stark', 'Tregar'),\n",
              " ('Eddard-Stark', 'Varly'),\n",
              " ('Eddard-Stark', 'Wylla'),\n",
              " ('Stannis-Baratheon', 'Azor-Ahai'),\n",
              " ('Stannis-Baratheon', 'Corliss-Penny'),\n",
              " ('Stannis-Baratheon', 'Lyanna-Mormont'),\n",
              " ('Stannis-Baratheon', 'Roose-Ryswell'),\n",
              " ('Stannis-Baratheon', 'William-Foxglove'),\n",
              " ('Aegon-Targaryen-(son-of-Rhaegar)',\n",
              "  'Rhaenys-Targaryen-(daughter-of-Rhaegar)'),\n",
              " ('Elia-Martell', 'Ashara-Dayne'),\n",
              " ('Franklyn-Flowers', 'Black-Balaq'),\n",
              " ('Jon-Connington', 'Nyessos-Vhassar'),\n",
              " ('Aegon-V-Targaryen', 'Aemon-Targaryen-(Maester-Aemon)'),\n",
              " ('Aemon-Targaryen-(Maester-Aemon)', 'Maekar-I-Targaryen'),\n",
              " ('Aemon-Targaryen-(Maester-Aemon)', 'Wynton-Stout'),\n",
              " ('Dareon', 'Lanna-(Happy-Port)'),\n",
              " ('Eddison-Tollett', 'Watt'),\n",
              " ('Jeor-Mormont', 'Blane'),\n",
              " ('Jon-Snow', 'Arson'),\n",
              " ('Jon-Snow', 'Brandon-Norrey'),\n",
              " ('Jon-Snow', 'Gerrick-Kingsblood'),\n",
              " ('Jon-Snow', 'Hake'),\n",
              " ('Jon-Snow', 'Matthar'),\n",
              " ('Jon-Snow', 'Othor'),\n",
              " ('Jon-Snow', 'Soren-Shieldbreaker'),\n",
              " ('Jon-Snow', 'Tom-Barleycorn'),\n",
              " ('Jon-Snow', 'Ulmer'),\n",
              " ('Jon-Snow', 'Zei'),\n",
              " ('Robert-Baratheon', 'Aerys-I-Targaryen'),\n",
              " ('Samwell-Tarly', 'Theobald'),\n",
              " ('Arya-Stark', 'Bellegere-Otherys'),\n",
              " ('Arya-Stark', 'Dobber'),\n",
              " ('Arya-Stark', 'Mad-Huntsman'),\n",
              " ('Arya-Stark', 'Meralyn'),\n",
              " ('Arya-Stark', 'Pate-(Old)'),\n",
              " ('Arya-Stark', 'Praed'),\n",
              " ('Arya-Stark', 'Ravella-Swann'),\n",
              " ('Arya-Stark', 'Umma'),\n",
              " ('Arya-Stark', 'Yorko-Terys'),\n",
              " ('Theon-Greyjoy', 'Captain-Myraham'),\n",
              " ('Theon-Greyjoy', 'Captain-Myraham-Daughter'),\n",
              " ('Theon-Greyjoy', 'Farlen'),\n",
              " ('Theon-Greyjoy', 'Harwood-Stout'),\n",
              " ('Theon-Greyjoy', 'Kyra'),\n",
              " ('Theon-Greyjoy', 'Willow-Witch-eye'),\n",
              " ('Aeron-Greyjoy', 'Emmond'),\n",
              " ('Aeron-Greyjoy', 'Gormond-Goodbrother'),\n",
              " ('Aeron-Greyjoy', 'Greydon-Goodbrother'),\n",
              " ('Aeron-Greyjoy', 'Rus'),\n",
              " ('Asha-Greyjoy', 'Rolfe-the-Dwarf'),\n",
              " ('Asha-Greyjoy', 'Torgon-Greyiron'),\n",
              " ('Euron-Greyjoy', 'Sawane-Botley'),\n",
              " ('Victarion-Greyjoy', 'Harras-Harlaw'),\n",
              " ('Victarion-Greyjoy', 'Kerwin'),\n",
              " ('Victarion-Greyjoy', 'Longwater-Pyke'),\n",
              " ('Victarion-Greyjoy', 'Ralf-(Limper)'),\n",
              " ('Victarion-Greyjoy', 'Talbert-Serry'),\n",
              " ('Victarion-Greyjoy', 'Wulfe'),\n",
              " ('Aerys-II-Targaryen', 'Denys-Darklyn'),\n",
              " ('Aerys-II-Targaryen', 'Elbert-Arryn'),\n",
              " ('Aerys-II-Targaryen', 'Owen-Merryweather'),\n",
              " ('Aerys-II-Targaryen', 'Rossart'),\n",
              " ('Arthur-Dayne', 'Smiling-Knight'),\n",
              " ('Barristan-Selmy', 'Larraq'),\n",
              " ('Barristan-Selmy', 'Widower'),\n",
              " ('Brienne-of-Tarth', 'Clarence-Crabb'),\n",
              " ('Brienne-of-Tarth', 'Jeyne-Heddle'),\n",
              " ('Brienne-of-Tarth', 'Selwyn-Tarth'),\n",
              " ('Jon-Arryn', 'Alys-Arryn'),\n",
              " ('Jon-Arryn', 'Hugh'),\n",
              " ('Aggar', 'Gariss'),\n",
              " ('Aggar', 'Gelmarr'),\n",
              " ('Gariss', 'Murch'),\n",
              " ('Drogo', 'Rhaego'),\n",
              " ('Alayaya', 'Dancy'),\n",
              " ('Bran-Stark', 'Hali'),\n",
              " ('Bran-Stark', 'Poxy-Tym'),\n",
              " ('Davos-Seaworth', 'Bartimus'),\n",
              " ('Davos-Seaworth', 'Godric-Borrell'),\n",
              " ('Davos-Seaworth', 'Imry-Florent'),\n",
              " ('Davos-Seaworth', 'Matthos-Seaworth'),\n",
              " ('Renly-Baratheon', 'Lorent-Caswell'),\n",
              " ('Sansa-Stark', 'Florian-the-Fool'),\n",
              " ('Sansa-Stark', 'Kella'),\n",
              " ('Pate-(novice)', 'Quill'),\n",
              " ('Pate-(novice)', 'Rosey'),\n",
              " ('Pate-(novice)', 'Walgrave'),\n",
              " ('Qhorin-Halfhand', 'Ragwyle'),\n",
              " ('Alys-Arryn', 'Elys-Waynwood'),\n",
              " ('Gendry', 'Cutjack'),\n",
              " ('Gendry', 'Merrit'),\n",
              " ('Hot-Pie', 'Mebble'),\n",
              " ('Sandor-Clegane', 'Aron-Santagar'),\n",
              " ('Quentyn-Martell', 'Old-Bill-Bone'),\n",
              " ('Andrew-Estermont', 'Gerald-Gower'),\n",
              " ('Arianne-Martell', 'Franklyn-Fowler'),\n",
              " ('Arianne-Martell', 'Ricasso'),\n",
              " ('Arianne-Martell', 'Timoth'),\n",
              " ('Tyene-Sand', 'Sarella-Sand'),\n",
              " ('Lem', 'Jack-Be-Lucky'),\n",
              " ('Petyr-Baelish', 'Grisel'),\n",
              " ('Tattered-Prince', 'Dick-Straw'),\n",
              " ('Ardrian-Celtigar', 'Monford-Velaryon'),\n",
              " ('Ricasso', 'Manfrey-Martell'),\n",
              " ('Arnolf-Karstark', 'Arthor-Karstark'),\n",
              " ('Mero', 'Grazdan-mo-Eraz'),\n",
              " ('Smiling-Knight', 'Simon-Toyne'),\n",
              " ('Arwyn-Oakheart', 'Randyll-Tarly'),\n",
              " ('Rodrik-Cassel', 'Halys-Hornwood'),\n",
              " ('Tommen-Baratheon', 'Pate-(whipping-boy)'),\n",
              " ('Red-Oarsman', 'Lucas-Codd'),\n",
              " ('Shireen-Baratheon', 'Daeron-I-Targaryen'),\n",
              " ('Bael-the-Bard', 'Ygritte'),\n",
              " ('Ballabar', 'Frenken'),\n",
              " ('Podrick-Payne', 'Cedric-Payne'),\n",
              " ('Hizdahr-zo-Loraq', 'Marghaz-zo-Loraq'),\n",
              " ('Pycelle', 'Puckens'),\n",
              " ('Craster', 'Byam-Flint'),\n",
              " ('Spotted-Cat', 'Camarron'),\n",
              " ('Jaremy-Rykker', 'Jafer-Flowers'),\n",
              " ('Tormund', 'Dryn'),\n",
              " ('Tormund', 'Munda'),\n",
              " ('Brandon-Norrey', 'Torghen-Flint'),\n",
              " ('Dick-Crabb', 'Eustace-Brune'),\n",
              " ('Walton', 'Nage'),\n",
              " ('Shagga', 'Dolf'),\n",
              " ('Shagga', 'Ulf-son-of-Umar'),\n",
              " ('Bryce-Caron', 'Eldon-Estermont'),\n",
              " ('Eldon-Estermont', 'Steffon-Varner'),\n",
              " ('Bump', 'Varamyr'),\n",
              " ('Varamyr', 'Haggon'),\n",
              " ('Varamyr', 'Thistle'),\n",
              " ('Caggo', 'Lucifer-Long'),\n",
              " ('Meris', 'Denzo-Dhan'),\n",
              " ('Mathis-Rowan', 'Jon-Fossoway'),\n",
              " ('Wendel-Manderly', 'Shadd'),\n",
              " ('Garlan-Tyrell', 'Leonette-Fossoway'),\n",
              " ('Maegor-I-Targaryen', 'Jaehaerys-I-Targaryen'),\n",
              " ('Melara-Hetherspoon', 'Jeyne-Farman'),\n",
              " ('Raynard', 'Torbert'),\n",
              " ('Lark', 'Softfoot'),\n",
              " ('Conn', 'Coratt'),\n",
              " ('Thoren-Smallwood', 'Mallador-Locke'),\n",
              " ('Cutjack', 'Kurz'),\n",
              " ('Cutjack', 'Tarber'),\n",
              " ('Miklaz', 'Draqaz'),\n",
              " ('Skinner', 'Luton'),\n",
              " ('Dick-Straw', 'Hugh-Hungerford'),\n",
              " ('Ogo', 'Fogo'),\n",
              " ('Florian-the-Fool', 'Jonquil'),\n",
              " ('Gerold-Grafton', 'Terrance-Lynderly'),\n",
              " ('Gerrick-Kingsblood', 'Raymun-Redbeard'),\n",
              " ('Gormon-Tyrell', 'Walgrave'),\n",
              " ('Lorren', 'Harl'),\n",
              " ('Hobber-Redwyne', 'Horas-Redwyne'),\n",
              " ('Rennifer-Longwaters', 'Rugen'),\n",
              " ('Nyessos-Vhassar', 'Malaquo-Maegyr'),\n",
              " ('Willem-Lannister', 'Tion-Frey'),\n",
              " ('Lucas-Codd', 'Torwold-Browntooth'),\n",
              " ('Puckens', 'Shortear')]"
            ]
          },
          "execution_count": 38,
          "metadata": {},
          "output_type": "execute_result"
        }
      ],
      "source": [
        "list(nx.bridges(g))"
      ]
    },
    {
      "cell_type": "markdown",
      "metadata": {
        "id": "pYGL7Hqn6FGH"
      },
      "source": [
        "Харин тухайн граф дахь local bridge-уудыг хэвлэх болон span бодохдоо (i.e., the shortest path length between the endpoints if the local bridge is removed)"
      ]
    },
    {
      "cell_type": "code",
      "execution_count": null,
      "metadata": {
        "colab": {
          "base_uri": "https://localhost:8080/"
        },
        "id": "jC_JFv9X6HSH",
        "outputId": "79daea8b-3465-4ac7-ad58-b0dfc06ba292"
      },
      "outputs": [
        {
          "data": {
            "text/plain": [
              "[('Cersei-Lannister', 'Garth-Tyrell', inf),\n",
              " ('Cersei-Lannister', 'Mark-Mullendore', inf),\n",
              " ('Cersei-Lannister', 'Raynard', inf),\n",
              " ('Jaime-Lannister', 'Aemon-Targaryen-(Dragonknight)', inf),\n",
              " ('Jaime-Lannister', 'Bonifer-Hasty', inf),\n",
              " ('Jaime-Lannister', 'Garrett-Paege', inf),\n",
              " ('Jaime-Lannister', 'Hoster-Blackwood', inf),\n",
              " ('Jaime-Lannister', 'Hugo-Vance', inf),\n",
              " ('Jaime-Lannister', 'Joy-Hill', inf),\n",
              " ('Jaime-Lannister', 'Lewys-Piper', inf),\n",
              " ('Jaime-Lannister', 'Rennifer-Longwaters', inf),\n",
              " ('Jaime-Lannister', 'Shadrich', 3),\n",
              " ('Jaime-Lannister', 'Shitmouth', inf),\n",
              " ('Jaime-Lannister', 'Urswyck', inf),\n",
              " ('Joffrey-Baratheon', 'Horas-Redwyne', inf),\n",
              " ('Kevan-Lannister', 'Willem-Lannister', 3),\n",
              " ('Oberyn-Martell', 'Anders-Yronwood', 3),\n",
              " ('Tyrion-Lannister', 'Chataya', inf),\n",
              " ('Tyrion-Lannister', 'Galyeon-of-Cuy', inf),\n",
              " ('Tyrion-Lannister', 'Gunthor-son-of-Gurn', inf),\n",
              " ('Tyrion-Lannister', 'Kurleket', inf),\n",
              " ('Tyrion-Lannister', 'Leo-Lefford', inf),\n",
              " ('Tyrion-Lannister', 'Mord', inf),\n",
              " ('Tyrion-Lannister', 'Morgo', inf),\n",
              " ('Tyrion-Lannister', 'Shrouded-Lord', inf),\n",
              " ('Tywin-Lannister', 'Joanna-Lannister', inf),\n",
              " ('Tywin-Lannister', 'Martyn-Lannister', 3),\n",
              " ('Catelyn-Stark', 'Brenett', inf),\n",
              " ('Catelyn-Stark', 'Donnel-Waynwood', inf),\n",
              " ('Catelyn-Stark', 'Masha-Heddle', inf),\n",
              " ('Catelyn-Stark', 'Moreo-Tumitis', inf),\n",
              " ('Catelyn-Stark', 'Mychel-Redfort', inf),\n",
              " ('Robb-Stark', 'Martyn-Rivers', inf),\n",
              " ('Robb-Stark', 'Rolph-Spicer', inf),\n",
              " ('Robb-Stark', 'Tristifer-IV-Mudd', inf),\n",
              " ('Robb-Stark', 'Willem-Lannister', 3),\n",
              " ('Walder-Frey', 'Danwell-Frey', 4),\n",
              " ('Walder-Frey', 'Petyr-Frey', 3),\n",
              " ('Daenerys-Targaryen', 'Barsena', inf),\n",
              " ('Daenerys-Targaryen', 'Daeron-II-Targaryen', 3),\n",
              " ('Daenerys-Targaryen', 'Eroeh', inf),\n",
              " ('Daenerys-Targaryen', 'Ezzara', inf),\n",
              " ('Daenerys-Targaryen', 'Lynesse-Hightower', inf),\n",
              " ('Daenerys-Targaryen', 'Lysono-Maar', inf),\n",
              " ('Daenerys-Targaryen', 'Quaithe', inf),\n",
              " ('Daenerys-Targaryen', 'Rhaegel-Targaryen', inf),\n",
              " ('Daenerys-Targaryen', 'Yurkhaz-zo-Yunzak', inf),\n",
              " ('Eddard-Stark', 'Jacks', inf),\n",
              " ('Eddard-Stark', 'Joss', inf),\n",
              " ('Eddard-Stark', 'Maron-Greyjoy', inf),\n",
              " ('Eddard-Stark', 'Porther', inf),\n",
              " ('Eddard-Stark', 'Tobho-Mott', inf),\n",
              " ('Eddard-Stark', 'Tregar', inf),\n",
              " ('Eddard-Stark', 'Varly', inf),\n",
              " ('Eddard-Stark', 'Wylla', inf),\n",
              " ('Stannis-Baratheon', 'Azor-Ahai', inf),\n",
              " ('Stannis-Baratheon', 'Corliss-Penny', inf),\n",
              " ('Stannis-Baratheon', 'Lyanna-Mormont', inf),\n",
              " ('Stannis-Baratheon', 'Roose-Ryswell', inf),\n",
              " ('Stannis-Baratheon', 'William-Foxglove', inf),\n",
              " ('Aegon-Targaryen-(son-of-Rhaegar)',\n",
              "  'Rhaenys-Targaryen-(daughter-of-Rhaegar)',\n",
              "  inf),\n",
              " ('Elia-Martell', 'Ashara-Dayne', inf),\n",
              " ('Franklyn-Flowers', 'Black-Balaq', inf),\n",
              " ('Haldon', 'Pono', 3),\n",
              " ('Jon-Connington', 'Nyessos-Vhassar', inf),\n",
              " ('Aegon-V-Targaryen', 'Aemon-Targaryen-(Maester-Aemon)', inf),\n",
              " ('Aemon-Targaryen-(Maester-Aemon)', 'Daeron-II-Targaryen', 3),\n",
              " ('Aemon-Targaryen-(Maester-Aemon)', 'Maekar-I-Targaryen', inf),\n",
              " ('Aemon-Targaryen-(Maester-Aemon)', 'Wynton-Stout', inf),\n",
              " ('Dareon', 'Lanna-(Happy-Port)', inf),\n",
              " ('Eddison-Tollett', 'Watt', inf),\n",
              " ('Jeor-Mormont', 'Blane', inf),\n",
              " ('Jeor-Mormont', 'Gared', 3),\n",
              " ('Jon-Snow', 'Arson', inf),\n",
              " ('Jon-Snow', 'Brandon-Norrey', inf),\n",
              " ('Jon-Snow', 'Gerrick-Kingsblood', inf),\n",
              " ('Jon-Snow', 'Hake', inf),\n",
              " ('Jon-Snow', 'Matthar', inf),\n",
              " ('Jon-Snow', 'Othor', inf),\n",
              " ('Jon-Snow', 'Soren-Shieldbreaker', inf),\n",
              " ('Jon-Snow', 'Tom-Barleycorn', inf),\n",
              " ('Jon-Snow', 'Ulmer', inf),\n",
              " ('Jon-Snow', 'Zei', inf),\n",
              " ('Robert-Baratheon', 'Aerys-I-Targaryen', inf),\n",
              " ('Samwell-Tarly', 'Paxter-Redwyne', 3),\n",
              " ('Samwell-Tarly', 'Theobald', inf),\n",
              " ('Arya-Stark', 'Bellegere-Otherys', inf),\n",
              " ('Arya-Stark', 'Dobber', inf),\n",
              " ('Arya-Stark', 'Mad-Huntsman', inf),\n",
              " ('Arya-Stark', 'Meralyn', inf),\n",
              " ('Arya-Stark', 'Pate-(Old)', inf),\n",
              " ('Arya-Stark', 'Praed', inf),\n",
              " ('Arya-Stark', 'Ravella-Swann', inf),\n",
              " ('Arya-Stark', 'Umma', inf),\n",
              " ('Arya-Stark', 'Yorko-Terys', inf),\n",
              " ('Theon-Greyjoy', 'Captain-Myraham', inf),\n",
              " ('Theon-Greyjoy', 'Captain-Myraham-Daughter', inf),\n",
              " ('Theon-Greyjoy', 'Farlen', inf),\n",
              " ('Theon-Greyjoy', 'Harwood-Stout', inf),\n",
              " ('Theon-Greyjoy', 'Kyra', inf),\n",
              " ('Theon-Greyjoy', 'Willow-Witch-eye', inf),\n",
              " ('Wyman-Manderly', 'Rhaegar-Frey', 3),\n",
              " ('Aeron-Greyjoy', 'Emmond', inf),\n",
              " ('Aeron-Greyjoy', 'Gormond-Goodbrother', inf),\n",
              " ('Aeron-Greyjoy', 'Greydon-Goodbrother', inf),\n",
              " ('Aeron-Greyjoy', 'Rus', inf),\n",
              " ('Asha-Greyjoy', 'Galbart-Glover', 3),\n",
              " ('Asha-Greyjoy', 'Rolfe-the-Dwarf', inf),\n",
              " ('Asha-Greyjoy', 'Sybelle-Glover', 3),\n",
              " ('Asha-Greyjoy', 'Torgon-Greyiron', inf),\n",
              " ('Euron-Greyjoy', 'Sawane-Botley', inf),\n",
              " ('Victarion-Greyjoy', 'Harras-Harlaw', inf),\n",
              " ('Victarion-Greyjoy', 'Kerwin', inf),\n",
              " ('Victarion-Greyjoy', 'Longwater-Pyke', inf),\n",
              " ('Victarion-Greyjoy', 'Ralf-(Limper)', inf),\n",
              " ('Victarion-Greyjoy', 'Talbert-Serry', inf),\n",
              " ('Victarion-Greyjoy', 'Wulfe', inf),\n",
              " ('Aerys-II-Targaryen', 'Denys-Darklyn', inf),\n",
              " ('Aerys-II-Targaryen', 'Elbert-Arryn', inf),\n",
              " ('Aerys-II-Targaryen', 'Owen-Merryweather', inf),\n",
              " ('Aerys-II-Targaryen', 'Rossart', inf),\n",
              " ('Arthur-Dayne', 'Smiling-Knight', inf),\n",
              " ('Barristan-Selmy', 'Larraq', inf),\n",
              " ('Barristan-Selmy', 'Widower', inf),\n",
              " ('Brandon-Stark', 'Rickard-Stark', 3),\n",
              " ('Brienne-of-Tarth', 'Biter', 3),\n",
              " ('Brienne-of-Tarth', 'Clarence-Crabb', inf),\n",
              " ('Brienne-of-Tarth', 'Jeyne-Heddle', inf),\n",
              " ('Brienne-of-Tarth', 'Selwyn-Tarth', inf),\n",
              " ('Jon-Arryn', 'Alys-Arryn', inf),\n",
              " ('Jon-Arryn', 'Hugh', inf),\n",
              " ('Aggar', 'Gariss', inf),\n",
              " ('Aggar', 'Gelmarr', inf),\n",
              " ('Aggar', 'Gynir', 4),\n",
              " ('Aggar', 'Ramsay-Snow', 4),\n",
              " ('Gariss', 'Murch', inf),\n",
              " ('Gynir', 'Wex-Pyke', 4),\n",
              " ('Drogo', 'Rhaego', inf),\n",
              " ('Alayaya', 'Dancy', inf),\n",
              " ('Bran-Stark', 'Hali', inf),\n",
              " ('Bran-Stark', 'Poxy-Tym', inf),\n",
              " ('Bran-Stark', 'Rickard-Stark', 3),\n",
              " ('Davos-Seaworth', 'Bartimus', inf),\n",
              " ('Davos-Seaworth', 'Godric-Borrell', inf),\n",
              " ('Davos-Seaworth', 'Imry-Florent', inf),\n",
              " ('Davos-Seaworth', 'Matthos-Seaworth', inf),\n",
              " ('Renly-Baratheon', 'Lorent-Caswell', inf),\n",
              " ('Sansa-Stark', 'Florian-the-Fool', inf),\n",
              " ('Sansa-Stark', 'Kella', inf),\n",
              " ('Pate-(novice)', 'Quill', inf),\n",
              " ('Pate-(novice)', 'Rosey', inf),\n",
              " ('Pate-(novice)', 'Walgrave', inf),\n",
              " ('Qhorin-Halfhand', 'Ragwyle', inf),\n",
              " ('Alys-Arryn', 'Elys-Waynwood', inf),\n",
              " ('Gendry', 'Cutjack', inf),\n",
              " ('Gendry', 'Merrit', inf),\n",
              " ('Gregor-Clegane', 'Helman-Tallhart', 4),\n",
              " ('Hot-Pie', 'Mebble', inf),\n",
              " ('Sandor-Clegane', 'Aron-Santagar', inf),\n",
              " ('Anders-Yronwood', 'Quentyn-Martell', 3),\n",
              " ('Quentyn-Martell', 'Old-Bill-Bone', inf),\n",
              " ('Quentyn-Martell', 'Trystane-Martell', 3),\n",
              " ('Andrew-Estermont', 'Gerald-Gower', inf),\n",
              " ('Arianne-Martell', 'Franklyn-Fowler', inf),\n",
              " ('Arianne-Martell', 'Ricasso', inf),\n",
              " ('Arianne-Martell', 'Timoth', inf),\n",
              " ('Myrcella-Baratheon', 'Trystane-Martell', 3),\n",
              " ('Tyene-Sand', 'Sarella-Sand', inf),\n",
              " ('Lem', 'Jack-Be-Lucky', inf),\n",
              " ('Gilwood-Hunter', 'Lysa-Arryn', 3),\n",
              " ('Petyr-Baelish', 'Grisel', inf),\n",
              " ('Petyr-Baelish', 'Merrett-Frey', 3),\n",
              " ('Tattered-Prince', 'Dick-Straw', inf),\n",
              " ('Ardrian-Celtigar', 'Monford-Velaryon', inf),\n",
              " ('Ricasso', 'Manfrey-Martell', inf),\n",
              " ('Arnolf-Karstark', 'Arthor-Karstark', inf),\n",
              " ('Arnolf-Karstark', 'Rickard-Karstark', 3),\n",
              " ('Mors-Umber', 'Donella-Hornwood', 3),\n",
              " ('Mors-Umber', 'Hother-Umber', 3),\n",
              " ('Mero', 'Grazdan-mo-Eraz', inf),\n",
              " ('Smiling-Knight', 'Simon-Toyne', inf),\n",
              " ('Arwyn-Oakheart', 'Randyll-Tarly', inf),\n",
              " ('Benjen-Stark', 'Waymar-Royce', 3),\n",
              " ('Rodrik-Cassel', 'Halys-Hornwood', inf),\n",
              " ('Tommen-Baratheon', 'Pate-(whipping-boy)', inf),\n",
              " ('Galbart-Glover', 'Robett-Glover', 3),\n",
              " ('Red-Oarsman', 'Lucas-Codd', inf),\n",
              " ('Sybelle-Glover', 'Lorren', 3),\n",
              " ('Aurane-Waters', 'Paxter-Redwyne', 3),\n",
              " ('Shireen-Baratheon', 'Daeron-I-Targaryen', inf),\n",
              " ('Bael-the-Bard', 'Ygritte', inf),\n",
              " ('Ballabar', 'Frenken', inf),\n",
              " ('Podrick-Payne', 'Cedric-Payne', inf),\n",
              " ('Grazhar', 'Qezza', 3),\n",
              " ('Hizdahr-zo-Loraq', 'Marghaz-zo-Loraq', inf),\n",
              " ('Pycelle', 'Puckens', inf),\n",
              " ('Craster', 'Byam-Flint', inf),\n",
              " ('Spotted-Cat', 'Camarron', inf),\n",
              " ('Benfred-Tallhart', 'Helman-Tallhart', 4),\n",
              " ('Benfred-Tallhart', 'Leobald-Tallhart', 3),\n",
              " ('Jaremy-Rykker', 'Jafer-Flowers', inf),\n",
              " ('Tormund', 'Dryn', inf),\n",
              " ('Tormund', 'Munda', inf),\n",
              " ('Jon-Umber-(Greatjon)', 'Hother-Umber', 3),\n",
              " ('Brandon-Norrey', 'Torghen-Flint', inf),\n",
              " ('Creighton-Longbough', 'Shadrich', 3),\n",
              " ('Dick-Crabb', 'Eustace-Brune', inf),\n",
              " ('Dontos-Hollard', 'Moon-Boy', 3),\n",
              " ('Walton', 'Nage', inf),\n",
              " ('Shagga', 'Dolf', inf),\n",
              " ('Shagga', 'Ulf-son-of-Umar', inf),\n",
              " ('Bryce-Caron', 'Eldon-Estermont', inf),\n",
              " ('Eldon-Estermont', 'Steffon-Varner', inf),\n",
              " ('Ryman-Frey', 'Petyr-Frey', 3),\n",
              " ('Bump', 'Varamyr', inf),\n",
              " ('Varamyr', 'Haggon', inf),\n",
              " ('Varamyr', 'Thistle', inf),\n",
              " ('Caggo', 'Lucifer-Long', inf),\n",
              " ('Meris', 'Denzo-Dhan', inf),\n",
              " ('Jeyne-Westerling', 'Gawen-Westerling', 3),\n",
              " ('Lothar-Frey', 'Merrett-Frey', 3),\n",
              " ('Mathis-Rowan', 'Jon-Fossoway', inf),\n",
              " ('Wendel-Manderly', 'Shadd', inf),\n",
              " ('Garlan-Tyrell', 'Leonette-Fossoway', inf),\n",
              " ('Maegor-I-Targaryen', 'Jaehaerys-I-Targaryen', inf),\n",
              " ('Melara-Hetherspoon', 'Jeyne-Farman', inf),\n",
              " ('Raynard', 'Torbert', inf),\n",
              " ('Lark', 'Softfoot', inf),\n",
              " ('Conn', 'Coratt', inf),\n",
              " ('Thoren-Smallwood', 'Mallador-Locke', inf),\n",
              " ('Cutjack', 'Kurz', inf),\n",
              " ('Cutjack', 'Tarber', inf),\n",
              " ('Miklaz', 'Draqaz', inf),\n",
              " ('Skinner', 'Luton', inf),\n",
              " ('Jared-Frey', 'Rhaegar-Frey', 3),\n",
              " ('Sybell-Spicer', 'Gawen-Westerling', 3),\n",
              " ('Dick-Straw', 'Hugh-Hungerford', inf),\n",
              " ('Ogo', 'Fogo', inf),\n",
              " ('Florian-the-Fool', 'Jonquil', inf),\n",
              " ('Gerold-Grafton', 'Terrance-Lynderly', inf),\n",
              " ('Gerrick-Kingsblood', 'Raymun-Redbeard', inf),\n",
              " ('Gormon-Tyrell', 'Walgrave', inf),\n",
              " ('Lorren', 'Harl', inf),\n",
              " ('Hobber-Redwyne', 'Horas-Redwyne', inf),\n",
              " ('Rennifer-Longwaters', 'Rugen', inf),\n",
              " ('Nyessos-Vhassar', 'Malaquo-Maegyr', inf),\n",
              " ('Willem-Lannister', 'Martyn-Lannister', 3),\n",
              " ('Willem-Lannister', 'Tion-Frey', inf),\n",
              " ('Lucas-Codd', 'Torwold-Browntooth', inf),\n",
              " ('Puckens', 'Shortear', inf)]"
            ]
          },
          "execution_count": 39,
          "metadata": {},
          "output_type": "execute_result"
        }
      ],
      "source": [
        "list(nx.local_bridges(g, with_span=True))"
      ]
    },
    {
      "cell_type": "markdown",
      "metadata": {
        "id": "q7qzmxp26KMm"
      },
      "source": [
        "**Tie Strength - Холбоосын чадал**\n",
        "\n",
        "\n",
        "Графан байх боломжит бүх хос оройнуудын хувьд холбоосын чадлыг Neighborhood Overlap-аар бодохоор дараах функцийг хэрэгжүүлэв."
      ]
    },
    {
      "cell_type": "code",
      "execution_count": null,
      "metadata": {
        "id": "q7dz-ioO6NDO"
      },
      "outputs": [],
      "source": [
        "def calculate_neighborhood_overlap(g):\n",
        "    for u, v in g.edges():  # Сүлжээн дэх бүх холболтыг шалгана\n",
        "        neighbors_u = set(g.neighbors(u))  # Узел u-ийн хөршүүд\n",
        "        neighbors_v = set(g.neighbors(v))  # Узел v-ийн хөршүүд\n",
        "        intersection = len(neighbors_u & neighbors_v)  # Хуваалцсан хөршүүд\n",
        "        union = len(neighbors_u | neighbors_v)  # Нийт өвөрмөц хөршүүд\n",
        "        overlap = intersection / union if union != 0 else 0  # Хуваалцсан хөршүүдийн харьцаа (тэгшитгэлээс зайлсхийж)\n",
        "        g[u][v]['overlap'] = overlap  # Холболтод overlap шинж чанарыг нэмэх\n",
        "    return g\n",
        "\n",
        "# Таны графикт neighborhood overlap-ыг тооцоолно\n",
        "g = calculate_neighborhood_overlap(g)"
      ]
    },
    {
      "cell_type": "markdown",
      "metadata": {
        "id": "8HZUm9d16P8g"
      },
      "source": [
        "Хэрэглэгчийн ойр орчны давхцалын KDE (Кернелийн Нягтралын Төсөөлөл)-г зураглах  \n",
        "\n",
        "Plotting the KDE (Kernel Density Estimation) of Neighborhood Overlap"
      ]
    },
    {
      "cell_type": "code",
      "execution_count": null,
      "metadata": {
        "colab": {
          "base_uri": "https://localhost:8080/",
          "height": 453
        },
        "id": "ErpsLr3T6Ybg",
        "outputId": "c5adc34b-c4bd-4b6f-b256-eea17645bfa2"
      },
      "outputs": [
        {
          "data": {
            "image/png": "[encoded data removed]",
            "text/plain": [
              "<Figure size 640x480 with 1 Axes>"
            ]
          },
          "metadata": {},
          "output_type": "display_data"
        }
      ],
      "source": [
        "# Графикаас давхцлын жингүүдийг гаргаж авах\n",
        "weights = [e[2]['overlap'] for e in g.edges(data=True)]  # e[2] нь холболтын шинж чанаруудыг агуулна\n",
        "\n",
        "# DataFrame үүсгэж, KDE-г зураглах\n",
        "pd.DataFrame(weights)[0].plot.kde()\n",
        "plt.xlabel(\"Хөршүүдийн Давхцал\")\n",
        "plt.xlim(0, 1)  # Хөршүүдийн Давхцал нь 0 болон 1-ийн хооронд байх\n",
        "plt.show()"
      ]
    },
    {
      "cell_type": "markdown",
      "metadata": {
        "id": "lCtsEXFu6x9z"
      },
      "source": [
        "Харилцан үйлдлийн жингийн KDE (Кернелийн Нягтралын Төсөөлөл)-г зураглах\n",
        "\n",
        "Plotting the KDE (Kernel Density Estimation) of Interactions Weights"
      ]
    },
    {
      "cell_type": "code",
      "execution_count": null,
      "metadata": {
        "colab": {
          "base_uri": "https://localhost:8080/",
          "height": 449
        },
        "id": "btKPwGjR66Bk",
        "outputId": "c58405a2-a603-4338-d63e-cd87713e7dba"
      },
      "outputs": [
        {
          "data": {
            "image/png": "[encoded data removed]",
            "text/plain": [
              "<Figure size 640x480 with 1 Axes>"
            ]
          },
          "metadata": {},
          "output_type": "display_data"
        }
      ],
      "source": [
        "weights_got = [d['weight'] for u,v,d in g.edges(data=True)]\n",
        "pd.DataFrame(weights_got)[0].plot.kde()\n",
        "plt.xlabel(\"Interaction Weights\")\n",
        "plt.xlim(0,max(weights_got))\n",
        "plt.show()"
      ]
    },
    {
      "cell_type": "markdown",
      "metadata": {
        "id": "kzA9ock_7P8W"
      },
      "source": [
        "**Сүлжээний Тогтворт байдал**\n",
        "\n",
        "\n",
        "Дараах үйлдлүүдийг гүйцэтгэнэ:\n",
        "\n",
        "  - Санамсаргүй болон Масштабын чөлөөт сүлжээ үүсгэнэ\n",
        "\n",
        "  - Аль алинд нь Сүлжээний Тогтворт байдал тооцоолно (molloy_reed болон breakdown_threshold ашиглан)\n",
        "\n",
        "  - Game of Thrones графикийг Санамсаргүй Алдаа ба Тодорхой Хүрэлтийг доройтуулан зургаар үзүүлнэ"
      ]
    },
    {
      "cell_type": "code",
      "execution_count": null,
      "metadata": {
        "id": "9ETv9q5n7Xle"
      },
      "outputs": [],
      "source": [
        "# Random\n",
        "er = nx.erdos_renyi_graph(1000, 0.001)\n",
        "# Scale-free\n",
        "ba = nx.barabasi_albert_graph(1000, 2)"
      ]
    },
    {
      "cell_type": "markdown",
      "metadata": {
        "id": "7GSwI9rh7cp4"
      },
      "source": [
        "ER and BA графуудын хувьд оройн зэрэглэлийг тодорхойлбол"
      ]
    },
    {
      "cell_type": "code",
      "execution_count": null,
      "metadata": {
        "id": "yyn8m3tf7aLF"
      },
      "outputs": [],
      "source": [
        "er_degs = list(dict(er.degree()).values())\n",
        "ba_degs = list(dict(ba.degree()).values())"
      ]
    },
    {
      "cell_type": "markdown",
      "metadata": {
        "id": "VtJ_z9N27eRO"
      },
      "source": [
        "Molloy-Reed threshold тодорхойлох"
      ]
    },
    {
      "cell_type": "code",
      "execution_count": null,
      "metadata": {
        "id": "m3_PZIvv7hCY"
      },
      "outputs": [],
      "source": [
        "def molloy_reed(degrees):\n",
        "    return (np.mean(degrees)*(np.mean(degrees)+1))/np.mean(degrees)\n",
        "\n",
        "def breakdown_threshold(degrees):\n",
        "    K = molloy_reed(degrees)\n",
        "    return 1 - (1/(K-1))"
      ]
    },
    {
      "cell_type": "markdown",
      "metadata": {
        "id": "m5IEA19-7jse"
      },
      "source": [
        "Random network"
      ]
    },
    {
      "cell_type": "code",
      "execution_count": null,
      "metadata": {
        "colab": {
          "base_uri": "https://localhost:8080/"
        },
        "id": "llYfUXd37jXB",
        "outputId": "1de72000-8b8b-4931-c3a1-5f41245f6686"
      },
      "outputs": [
        {
          "data": {
            "text/plain": [
              "np.float64(2.026)"
            ]
          },
          "execution_count": 48,
          "metadata": {},
          "output_type": "execute_result"
        }
      ],
      "source": [
        "molloy_reed(er_degs)"
      ]
    },
    {
      "cell_type": "code",
      "execution_count": null,
      "metadata": {
        "colab": {
          "base_uri": "https://localhost:8080/"
        },
        "id": "ia-YPiwG7m6X",
        "outputId": "b2a5b669-a72f-4f3e-929c-e4680f070a1b"
      },
      "outputs": [
        {
          "data": {
            "text/plain": [
              "np.float64(0.02534113060428833)"
            ]
          },
          "execution_count": 49,
          "metadata": {},
          "output_type": "execute_result"
        }
      ],
      "source": [
        "breakdown_threshold(er_degs)"
      ]
    },
    {
      "cell_type": "markdown",
      "metadata": {
        "id": "h8fy4KQ57rjI"
      },
      "source": [
        "Scale-free network"
      ]
    },
    {
      "cell_type": "code",
      "execution_count": null,
      "metadata": {
        "colab": {
          "base_uri": "https://localhost:8080/"
        },
        "id": "bndWs_Mq7r-k",
        "outputId": "3b785dee-bba0-4a14-ab9b-d5f5e8c68303"
      },
      "outputs": [
        {
          "data": {
            "text/plain": [
              "np.float64(4.992)"
            ]
          },
          "execution_count": 50,
          "metadata": {},
          "output_type": "execute_result"
        }
      ],
      "source": [
        "molloy_reed(ba_degs)"
      ]
    },
    {
      "cell_type": "code",
      "execution_count": null,
      "metadata": {
        "colab": {
          "base_uri": "https://localhost:8080/"
        },
        "id": "2B5umoAY7u0Z",
        "outputId": "3d772e3a-e107-4f5b-95cb-46413457cd8f"
      },
      "outputs": [
        {
          "data": {
            "text/plain": [
              "np.float64(0.7494989979959921)"
            ]
          },
          "execution_count": 51,
          "metadata": {},
          "output_type": "execute_result"
        }
      ],
      "source": [
        "breakdown_threshold(ba_degs)"
      ]
    },
    {
      "cell_type": "markdown",
      "metadata": {
        "id": "RtNVg--s7wwx"
      },
      "source": [
        "**Random Failures**"
      ]
    },
    {
      "cell_type": "code",
      "execution_count": null,
      "metadata": {
        "id": "c4BebVIr7wd5"
      },
      "outputs": [],
      "source": [
        "import networkx as nx\n",
        "import matplotlib.pyplot as plt\n",
        "from scripts.dismantle_utils import random_node, dismantle, get_sorted_nodes, plot_dismantle\n",
        "from scripts.load_and_build_graph import read_net\n",
        "\n",
        "# 📂 Файлаа ачааллах\n",
        "edge_file = \"data/asoiaf-all-edges.csv\"\n",
        "node_file = \"data/asoiaf-all-nodes.csv\"\n",
        "G = read_net(edge_file)\n",
        "\n",
        "# 🧠 Node attribute нэмэх\n",
        "with open(node_file, encoding=\"utf-8\") as f:\n",
        "    f.readline()\n",
        "    for line in f:\n",
        "        parts = line.strip().split(\",\")\n",
        "        if len(parts) >= 3:\n",
        "            node, _, house = parts\n",
        "            G.add_node(node, house=house)\n",
        "\n",
        "# 🔍 Санамсаргүй узел устгах\n",
        "x_rand, y_rand = dismantle(G, random_node)\n",
        "\n",
        "# 🔍 Degree төвшингөөр эрэмбэлсэн узелүүд устгах\n",
        "def top_degree(g):\n",
        "    return get_sorted_nodes(g, nx.degree_centrality)\n",
        "\n",
        "x_deg, y_deg = dismantle(G, top_degree)\n",
        "\n",
        "# 📊 Графикаар харуулах\n",
        "plt.figure(figsize=(8, 5))\n",
        "plot_dismantle(x_rand, y_rand)\n",
        "plot_dismantle(x_deg, y_deg)\n",
        "plt.legend([\"Санамсаргүй\", \"Degree Centrality\"])"
      ]
    },
    {
      "cell_type": "markdown",
      "metadata": {
        "id": "jwwuQkwz75Xa"
      },
      "source": [
        "**Random Failure:**\n",
        "\n",
        "  - Их хэмжээний бүрэлдэхүүн хэсгийн хэмжээ нь том хэсэг узлуудыг устгасан үед тогтмол буурах хандлагатай байдаг."
      ]
    },
    {
      "cell_type": "code",
      "execution_count": null,
      "metadata": {
        "colab": {
          "base_uri": "https://localhost:8080/",
          "height": 449
        },
        "id": "MkbMewit774j",
        "outputId": "a13c84aa-8369-4e53-b1b4-2c70dcd4c6fa"
      },
      "outputs": [
        {
          "data": {
            "image/png": "[encoded data removed]",
            "text/plain": [
              "<Figure size 640x480 with 1 Axes>"
            ]
          },
          "metadata": {},
          "output_type": "display_data"
        }
      ],
      "source": [
        "h = g.copy()\n",
        "nn, comps = dismantle(h, random_node)\n",
        "plot_dismantle(nn, comps)"
      ]
    },
    {
      "cell_type": "markdown",
      "metadata": {
        "id": "Jtko4_lL7_kz"
      },
      "source": [
        "**Targeted Attacks**\n",
        "\n",
        "Тодорхой Узлын халдлага (эхлээд төвлөрсөн узлууд устгагдана)\n",
        "\n",
        "  - Их хэмжээний бүрэлдэхүүн хэсгийн хэмжээ нь товчхон хэсэг узлуудыг устгасан үед тогтмол буурах хандлагатай байдаг."
      ]
    },
    {
      "cell_type": "code",
      "execution_count": null,
      "metadata": {
        "colab": {
          "base_uri": "https://localhost:8080/",
          "height": 449
        },
        "id": "u3-eo9bT8Dxr",
        "outputId": "69c40fa0-d01c-4ada-db3e-41ea4d71f4c3"
      },
      "outputs": [
        {
          "data": {
            "image/png": "[encoded data removed]",
            "text/plain": [
              "<Figure size 640x480 with 1 Axes>"
            ]
          },
          "metadata": {},
          "output_type": "display_data"
        }
      ],
      "source": [
        "h = g.copy()\n",
        "rn, comps = dismantle(h, get_sorted_nodes, score=nx.degree)\n",
        "plot_dismantle(rn, comps)"
      ]
    },
    {
      "cell_type": "markdown",
      "metadata": {
        "id": "q-K7mXQD8GCi"
      },
      "source": [
        "Тодорхой Гадна Үйлдлийн Хорио (Edge Betweenness Centrality дээр үндэслэсэн)\n",
        "\n",
        "  - Их хэмжээний бүрэлдэхүүн хэсгийн хэмжээ нь товчхон хэсэг узлуудыг устгасан үед тогтмол буурах хандлагатай байдаг."
      ]
    },
    {
      "cell_type": "code",
      "execution_count": null,
      "metadata": {
        "colab": {
          "base_uri": "https://localhost:8080/",
          "height": 449
        },
        "id": "WlUIXw9r8IX8",
        "outputId": "864c0591-4d85-4b1a-886e-3113bcc4d4e4"
      },
      "outputs": [
        {
          "data": {
            "image/png": "[encoded data removed]",
            "text/plain": [
              "<Figure size 640x480 with 1 Axes>"
            ]
          },
          "metadata": {},
          "output_type": "display_data"
        }
      ],
      "source": [
        "h = g.copy()\n",
        "rn, comps = dismantle(h, get_sorted_nodes, score=nx.betweenness_centrality)\n",
        "plot_dismantle(rn, comps)"
      ]
    },
    {
      "cell_type": "markdown",
      "metadata": {
        "id": "G-Lz1_1E8MVS"
      },
      "source": [
        "Тодорхой Гадна Үйлдлийн Хорио (Edge Harmonic Centrality дээр үндэслэсэн)\n",
        "\n",
        "  - Их хэмжээний бүрэлдэхүүн хэсгийн хэмжээ нь товчхон хэсэг узлуудыг устгасан үед тогтмол буурах хандлагатай байдаг."
      ]
    },
    {
      "cell_type": "code",
      "execution_count": null,
      "metadata": {
        "colab": {
          "base_uri": "https://localhost:8080/",
          "height": 449
        },
        "id": "JvG4AnMz8OTT",
        "outputId": "8111ab0e-70a4-41c3-8246-6e8c3a16f9a5"
      },
      "outputs": [
        {
          "data": {
            "image/png": "[encoded data removed]",
            "text/plain": [
              "<Figure size 640x480 with 1 Axes>"
            ]
          },
          "metadata": {},
          "output_type": "display_data"
        }
      ],
      "source": [
        "h = g.copy()\n",
        "rn, comps = dismantle(h, get_sorted_nodes, score=nx.harmonic_centrality)\n",
        "plot_dismantle(rn, comps)"
      ]
    }
  ],
  "metadata": {
    "colab": {
      "provenance": []
    },
    "kernelspec": {
      "display_name": "Python 3",
      "name": "python3"
    },
    "language_info": {
      "name": "python"
    }
  },
  "nbformat": 4,
  "nbformat_minor": 0
}
